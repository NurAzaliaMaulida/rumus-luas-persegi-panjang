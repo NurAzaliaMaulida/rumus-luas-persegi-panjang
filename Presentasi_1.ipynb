{
  "nbformat": 4,
  "nbformat_minor": 0,
  "metadata": {
    "colab": {
      "provenance": [],
      "authorship_tag": "ABX9TyMuM98kYQb1utidy2VdjXyD",
      "include_colab_link": true
    },
    "kernelspec": {
      "name": "python3",
      "display_name": "Python 3"
    },
    "language_info": {
      "name": "python"
    }
  },
  "cells": [
    {
      "cell_type": "markdown",
      "metadata": {
        "id": "view-in-github",
        "colab_type": "text"
      },
      "source": [
        "<a href=\"https://colab.research.google.com/github/NurAzaliaMaulida/rumus-luas-persegi-panjang/blob/main/Presentasi_1.ipynb\" target=\"_parent\"><img src=\"https://colab.research.google.com/assets/colab-badge.svg\" alt=\"Open In Colab\"/></a>"
      ]
    },
    {
      "cell_type": "code",
      "execution_count": 1,
      "metadata": {
        "colab": {
          "base_uri": "https://localhost:8080/"
        },
        "id": "e9U7lQRhqES6",
        "outputId": "c40771ca-a3da-49aa-ed89-f7560a98d125"
      },
      "outputs": [
        {
          "output_type": "stream",
          "name": "stdout",
          "text": [
            "[3, 7, 8, 10, 11, 22, 33, 54, 100]\n"
          ]
        }
      ],
      "source": [
        "nomor_acak = [10, 8, 3, 22, 33, 7, 11, 100, 54]\n",
        "nomor_acak.sort()\n",
        "print(nomor_acak)"
      ]
    },
    {
      "cell_type": "markdown",
      "source": [
        "Kelompok 3"
      ],
      "metadata": {
        "id": "czR8GzFdqGMz"
      }
    }
  ]
}